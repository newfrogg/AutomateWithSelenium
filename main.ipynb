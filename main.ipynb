{
 "cells": [
  {
   "cell_type": "markdown",
   "metadata": {},
   "source": [
    "#### Selenium"
   ]
  },
  {
   "cell_type": "code",
   "execution_count": 1,
   "metadata": {},
   "outputs": [],
   "source": [
    "from selenium import webdriver\n",
    "from selenium.webdriver.support.ui import WebDriverWait\n",
    "from selenium.webdriver.chrome.options import Options\n",
    "from webdriver_manager.chrome import ChromeDriverManager\n",
    "from selenium.webdriver.chrome.service import Service as ChromeService\n",
    "from selenium.webdriver.common.by import By\n",
    "from bs4 import BeautifulSoup"
   ]
  },
  {
   "cell_type": "code",
   "execution_count": 2,
   "metadata": {},
   "outputs": [],
   "source": [
    "# Bkel credentials\n",
    "username = \"\"\n",
    "password = \"\""
   ]
  },
  {
   "attachments": {},
   "cell_type": "markdown",
   "metadata": {},
   "source": [
    "#### Init Webdriver"
   ]
  },
  {
   "cell_type": "code",
   "execution_count": 3,
   "metadata": {},
   "outputs": [],
   "source": [
    "# # for Brave browser (favourite browser)\n",
    "# https://stackoverflow.com/questions/47158434/how-to-run-selenium-tests-on-the-brave-web-browser\n",
    "# options = Options()\n",
    "# options.binary_location = r\"C:\\Program Files\\BraveSoftware\\Brave-Browser\\Application\\brave.exe\"\n",
    "# driver_path = r\"D:\\beautifulsoup4\\selenium\\WebDriver\\Brave\\chromedriver.exe\"\n",
    "# driver = webdriver.Chrome(options=options, executable_path=driver_path)\n",
    "# for Edge\n",
    "driver = webdriver.Edge()\n"
   ]
  },
  {
   "cell_type": "markdown",
   "metadata": {},
   "source": [
    "#### Login your account"
   ]
  },
  {
   "cell_type": "code",
   "execution_count": 4,
   "metadata": {},
   "outputs": [],
   "source": [
    "# head to github login page\n",
    "driver.get(\"http://mybk.hcmut.edu.vn/dkmh\")\n",
    "# find username/email field and send the username itself to the input field\n",
    "# driver.find_element_by_id(\"login_field\").send_keys(username)\n",
    "driver.find_element(by=By.ID,value='username').send_keys(username)\n",
    "# find password input field and insert password as well\n",
    "driver.find_element(by=By.ID,value='password').send_keys(password)\n",
    "# click login button\n",
    "driver.find_element(by=By.NAME,value='submit').click()\n",
    "#\n",
    "driver.implicitly_wait(2)\n",
    "driver.find_element(by=By.XPATH, value=\"//img[@ src='images/dkmh2.png']\").click()\n",
    "\n",
    "driver.implicitly_wait(2)\n",
    "driver.find_element(by=By.XPATH, value=\"//table[@ class='table table-striped table-hover']//tbody//tr[17]\").click()\n",
    "\n",
    "driver.implicitly_wait(2)\n",
    "driver.find_element(by=By.XPATH, value=\"//*[@id='div-KetQuaDKViewResponse']/div[2]/button[2]\").click()\n",
    "\n",
    "\n",
    "driver.implicitly_wait(2)\n",
    "driver.find_element(by=By.XPATH, value=\"//*[@id='dotDKId607']\").click()\n",
    "\n",
    "driver.implicitly_wait(2)\n",
    "driver.find_element(by=By.XPATH, value=\"//*[@id='dotDKId607']\").click()\n",
    "\n",
    "\n"
   ]
  },
  {
   "cell_type": "code",
   "execution_count": 5,
   "metadata": {},
   "outputs": [],
   "source": [
    "driver.implicitly_wait(2)\n",
    "driver.find_element(by=By.XPATH, value='//*[@id=\"txtMSMHSearch\"]').send_keys(' ')\n",
    "\n",
    "driver.implicitly_wait(30)\n",
    "# driver.find_element(by=By.XPATH, value=\"//*[@id='divMonHocDangKyForm']/div/div[1]/div/div[1]/div/span/button\").click()\n",
    "isAtempt = False\n",
    "while isAtempt == False:\n",
    "    try:\n",
    "        driver.find_element(by=By.XPATH, value='//*[@id=\"divMonHocDangKyForm\"]/div/div[2]/div/div[1]/div/span/button').click()\n",
    "        isAtempt = True\n",
    "        break\n",
    "    except:\n",
    "        None\n",
    "\n",
    "\n",
    "tbody = driver.find_element(by=By.CSS_SELECTOR, value='#tblMonHocMoLop > tbody')\n",
    "elements = tbody.find_elements(by=By.TAG_NAME, value='tr')\n",
    "\n",
    "\n",
    "count = 0\n",
    "tbodyID = '//*[@id=\"tkbLTxxxx\"]/tbody'\n",
    "for e in elements:\n",
    "    if count % 2 == 1:\n",
    "        e.click()\n",
    "    count += 1"
   ]
  },
  {
   "cell_type": "code",
   "execution_count": 6,
   "metadata": {},
   "outputs": [
    {
     "name": "stdout",
     "output_type": "stream",
     "text": [
      "[+] Clicks successful\n"
     ]
    }
   ],
   "source": [
    "# wait the ready state to be complete\n",
    "WebDriverWait(driver=driver, timeout=10).until(\n",
    "    lambda x: x.execute_script(\"return document.readyState === 'complete'\")\n",
    ")\n",
    "error_message = \"Incorrect username or password.\"\n",
    "# get the errors (if there are)\n",
    "errors = driver.find_elements(by =By.CLASS_NAME,value=\"flash-error\")\n",
    "# print the errors optionally\n",
    "# for e in errors:\n",
    "#     print(e.text)\n",
    "# if we find that error message within errors, then login is failed\n",
    "if any(error_message in e.text for e in errors):\n",
    "    print(\"[!] Clicks failed\")\n",
    "else:\n",
    "    print(\"[+] Clicks successful\")\n",
    "    \n",
    "# driver.close()"
   ]
  }
 ],
 "metadata": {
  "kernelspec": {
   "display_name": "Python 3",
   "language": "python",
   "name": "python3"
  },
  "language_info": {
   "codemirror_mode": {
    "name": "ipython",
    "version": 3
   },
   "file_extension": ".py",
   "mimetype": "text/x-python",
   "name": "python",
   "nbconvert_exporter": "python",
   "pygments_lexer": "ipython3",
   "version": "3.9.0"
  },
  "orig_nbformat": 4,
  "vscode": {
   "interpreter": {
    "hash": "7d33c4c91f245e9a05eae1af3e23e9695781449447981eb674f64f3e374dcb21"
   }
  }
 },
 "nbformat": 4,
 "nbformat_minor": 2
}
